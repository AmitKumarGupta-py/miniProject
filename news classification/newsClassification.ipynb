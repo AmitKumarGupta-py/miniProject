{
 "cells": [
  {
   "cell_type": "code",
   "execution_count": 1,
   "id": "5cc58581-9228-466c-92c9-d8d859282be4",
   "metadata": {},
   "outputs": [],
   "source": [
    "import pandas as pd\n",
    "import numpy as np\n",
    "from matplotlib import pyplot as plt \n",
    "import seaborn as sns\n",
    "import nltk\n",
    "import re\n",
    "from nltk.corpus import stopwords\n",
    "from nltk.stem.porter import PorterStemmer\n",
    "from sklearn.feature_extraction.text import TfidfVectorizer"
   ]
  },
  {
   "cell_type": "code",
   "execution_count": 2,
   "id": "b7c0d614-8186-48ee-89b6-f88773d53170",
   "metadata": {},
   "outputs": [],
   "source": [
    "df1=pd.read_csv('entertainment_data.csv/entertainment_data.csv')\n",
    "df2=pd.read_csv('business_data.csv/business_data.csv')\n",
    "df3=pd.read_csv('education_data.csv/education_data.csv')\n",
    "df4=pd.read_csv('sports_data.csv/sports_data.csv')\n",
    "df5=pd.read_csv('technology_data.csv/technology_data.csv')"
   ]
  },
  {
   "cell_type": "code",
   "execution_count": 3,
   "id": "b2711ddb-2451-4861-8f3d-925038a0bbae",
   "metadata": {},
   "outputs": [],
   "source": [
    "# joining all the dataframes\n",
    "dfs=[df1,df2,df3,df4,df5]\n",
    "df = pd.concat(dfs)"
   ]
  },
  {
   "cell_type": "code",
   "execution_count": 4,
   "id": "46a15b08-6217-447d-b876-9a6d5659edd5",
   "metadata": {},
   "outputs": [],
   "source": [
    "# Shuffling the columns so the df have some randomness\n",
    "from sklearn.utils import shuffle\n",
    "df = shuffle(df)\n"
   ]
  },
  {
   "cell_type": "code",
   "execution_count": 5,
   "id": "6deabaf4-7e08-4e62-accb-d76c25f9566b",
   "metadata": {},
   "outputs": [
    {
     "data": {
      "text/html": [
       "<div>\n",
       "<style scoped>\n",
       "    .dataframe tbody tr th:only-of-type {\n",
       "        vertical-align: middle;\n",
       "    }\n",
       "\n",
       "    .dataframe tbody tr th {\n",
       "        vertical-align: top;\n",
       "    }\n",
       "\n",
       "    .dataframe thead th {\n",
       "        text-align: right;\n",
       "    }\n",
       "</style>\n",
       "<table border=\"1\" class=\"dataframe\">\n",
       "  <thead>\n",
       "    <tr style=\"text-align: right;\">\n",
       "      <th></th>\n",
       "      <th>headlines</th>\n",
       "      <th>description</th>\n",
       "      <th>content</th>\n",
       "      <th>url</th>\n",
       "      <th>category</th>\n",
       "    </tr>\n",
       "  </thead>\n",
       "  <tbody>\n",
       "    <tr>\n",
       "      <th>364</th>\n",
       "      <td>I’ve found happiness in even being able to bru...</td>\n",
       "      <td>He talked about how after the life threatening...</td>\n",
       "      <td>India player Rishabh Pant who is recovering fr...</td>\n",
       "      <td>https://indianexpress.com/article/sports/crick...</td>\n",
       "      <td>sports</td>\n",
       "    </tr>\n",
       "    <tr>\n",
       "      <th>35</th>\n",
       "      <td>HBSE 2024 Exams: Practical exams for Class 10t...</td>\n",
       "      <td>HBSE 2024 Exams: The BSEH Class 10 and Class 1...</td>\n",
       "      <td>The Haryana School Education Board (BSEH) will...</td>\n",
       "      <td>https://indianexpress.com/article/education/hb...</td>\n",
       "      <td>education</td>\n",
       "    </tr>\n",
       "    <tr>\n",
       "      <th>1189</th>\n",
       "      <td>‘I want him to crack JEE but don’t want to los...</td>\n",
       "      <td>Packed schedule, cut-throat competition, const...</td>\n",
       "      <td>From mothers on sabbatical to grandparents and...</td>\n",
       "      <td>https://indianexpress.com/article/education/i-...</td>\n",
       "      <td>education</td>\n",
       "    </tr>\n",
       "    <tr>\n",
       "      <th>478</th>\n",
       "      <td>‘As rare as it gets’: Five wickets fall in las...</td>\n",
       "      <td>Tasmania won the summit clash by one run under...</td>\n",
       "      <td>Five wickets fell in a final over for the ages...</td>\n",
       "      <td>https://indianexpress.com/article/sports/crick...</td>\n",
       "      <td>sports</td>\n",
       "    </tr>\n",
       "    <tr>\n",
       "      <th>1392</th>\n",
       "      <td>‘Just because MS Dhoni came and won a World Cu...</td>\n",
       "      <td>Speaking on his YouTube channel, Ashwin also u...</td>\n",
       "      <td>India all-rounder Ravichandran Ashwin has shar...</td>\n",
       "      <td>https://indianexpress.com/article/sports/crick...</td>\n",
       "      <td>sports</td>\n",
       "    </tr>\n",
       "  </tbody>\n",
       "</table>\n",
       "</div>"
      ],
      "text/plain": [
       "                                              headlines  \\\n",
       "364   I’ve found happiness in even being able to bru...   \n",
       "35    HBSE 2024 Exams: Practical exams for Class 10t...   \n",
       "1189  ‘I want him to crack JEE but don’t want to los...   \n",
       "478   ‘As rare as it gets’: Five wickets fall in las...   \n",
       "1392  ‘Just because MS Dhoni came and won a World Cu...   \n",
       "\n",
       "                                            description  \\\n",
       "364   He talked about how after the life threatening...   \n",
       "35    HBSE 2024 Exams: The BSEH Class 10 and Class 1...   \n",
       "1189  Packed schedule, cut-throat competition, const...   \n",
       "478   Tasmania won the summit clash by one run under...   \n",
       "1392  Speaking on his YouTube channel, Ashwin also u...   \n",
       "\n",
       "                                                content  \\\n",
       "364   India player Rishabh Pant who is recovering fr...   \n",
       "35    The Haryana School Education Board (BSEH) will...   \n",
       "1189  From mothers on sabbatical to grandparents and...   \n",
       "478   Five wickets fell in a final over for the ages...   \n",
       "1392  India all-rounder Ravichandran Ashwin has shar...   \n",
       "\n",
       "                                                    url   category  \n",
       "364   https://indianexpress.com/article/sports/crick...     sports  \n",
       "35    https://indianexpress.com/article/education/hb...  education  \n",
       "1189  https://indianexpress.com/article/education/i-...  education  \n",
       "478   https://indianexpress.com/article/sports/crick...     sports  \n",
       "1392  https://indianexpress.com/article/sports/crick...     sports  "
      ]
     },
     "execution_count": 5,
     "metadata": {},
     "output_type": "execute_result"
    }
   ],
   "source": [
    "df.head()"
   ]
  },
  {
   "cell_type": "code",
   "execution_count": 6,
   "id": "302917f8-7e23-44a6-83a0-e42501d3eba9",
   "metadata": {},
   "outputs": [],
   "source": [
    "# resetting the index\n",
    "df.reset_index(inplace=True)"
   ]
  },
  {
   "cell_type": "code",
   "execution_count": 7,
   "id": "263efd8d-98e4-4829-bf81-9a3ec4aedb03",
   "metadata": {},
   "outputs": [
    {
     "data": {
      "text/html": [
       "<div>\n",
       "<style scoped>\n",
       "    .dataframe tbody tr th:only-of-type {\n",
       "        vertical-align: middle;\n",
       "    }\n",
       "\n",
       "    .dataframe tbody tr th {\n",
       "        vertical-align: top;\n",
       "    }\n",
       "\n",
       "    .dataframe thead th {\n",
       "        text-align: right;\n",
       "    }\n",
       "</style>\n",
       "<table border=\"1\" class=\"dataframe\">\n",
       "  <thead>\n",
       "    <tr style=\"text-align: right;\">\n",
       "      <th></th>\n",
       "      <th>index</th>\n",
       "      <th>headlines</th>\n",
       "      <th>description</th>\n",
       "      <th>content</th>\n",
       "      <th>url</th>\n",
       "      <th>category</th>\n",
       "    </tr>\n",
       "  </thead>\n",
       "  <tbody>\n",
       "    <tr>\n",
       "      <th>0</th>\n",
       "      <td>364</td>\n",
       "      <td>I’ve found happiness in even being able to bru...</td>\n",
       "      <td>He talked about how after the life threatening...</td>\n",
       "      <td>India player Rishabh Pant who is recovering fr...</td>\n",
       "      <td>https://indianexpress.com/article/sports/crick...</td>\n",
       "      <td>sports</td>\n",
       "    </tr>\n",
       "    <tr>\n",
       "      <th>1</th>\n",
       "      <td>35</td>\n",
       "      <td>HBSE 2024 Exams: Practical exams for Class 10t...</td>\n",
       "      <td>HBSE 2024 Exams: The BSEH Class 10 and Class 1...</td>\n",
       "      <td>The Haryana School Education Board (BSEH) will...</td>\n",
       "      <td>https://indianexpress.com/article/education/hb...</td>\n",
       "      <td>education</td>\n",
       "    </tr>\n",
       "    <tr>\n",
       "      <th>2</th>\n",
       "      <td>1189</td>\n",
       "      <td>‘I want him to crack JEE but don’t want to los...</td>\n",
       "      <td>Packed schedule, cut-throat competition, const...</td>\n",
       "      <td>From mothers on sabbatical to grandparents and...</td>\n",
       "      <td>https://indianexpress.com/article/education/i-...</td>\n",
       "      <td>education</td>\n",
       "    </tr>\n",
       "    <tr>\n",
       "      <th>3</th>\n",
       "      <td>478</td>\n",
       "      <td>‘As rare as it gets’: Five wickets fall in las...</td>\n",
       "      <td>Tasmania won the summit clash by one run under...</td>\n",
       "      <td>Five wickets fell in a final over for the ages...</td>\n",
       "      <td>https://indianexpress.com/article/sports/crick...</td>\n",
       "      <td>sports</td>\n",
       "    </tr>\n",
       "    <tr>\n",
       "      <th>4</th>\n",
       "      <td>1392</td>\n",
       "      <td>‘Just because MS Dhoni came and won a World Cu...</td>\n",
       "      <td>Speaking on his YouTube channel, Ashwin also u...</td>\n",
       "      <td>India all-rounder Ravichandran Ashwin has shar...</td>\n",
       "      <td>https://indianexpress.com/article/sports/crick...</td>\n",
       "      <td>sports</td>\n",
       "    </tr>\n",
       "  </tbody>\n",
       "</table>\n",
       "</div>"
      ],
      "text/plain": [
       "   index                                          headlines  \\\n",
       "0    364  I’ve found happiness in even being able to bru...   \n",
       "1     35  HBSE 2024 Exams: Practical exams for Class 10t...   \n",
       "2   1189  ‘I want him to crack JEE but don’t want to los...   \n",
       "3    478  ‘As rare as it gets’: Five wickets fall in las...   \n",
       "4   1392  ‘Just because MS Dhoni came and won a World Cu...   \n",
       "\n",
       "                                         description  \\\n",
       "0  He talked about how after the life threatening...   \n",
       "1  HBSE 2024 Exams: The BSEH Class 10 and Class 1...   \n",
       "2  Packed schedule, cut-throat competition, const...   \n",
       "3  Tasmania won the summit clash by one run under...   \n",
       "4  Speaking on his YouTube channel, Ashwin also u...   \n",
       "\n",
       "                                             content  \\\n",
       "0  India player Rishabh Pant who is recovering fr...   \n",
       "1  The Haryana School Education Board (BSEH) will...   \n",
       "2  From mothers on sabbatical to grandparents and...   \n",
       "3  Five wickets fell in a final over for the ages...   \n",
       "4  India all-rounder Ravichandran Ashwin has shar...   \n",
       "\n",
       "                                                 url   category  \n",
       "0  https://indianexpress.com/article/sports/crick...     sports  \n",
       "1  https://indianexpress.com/article/education/hb...  education  \n",
       "2  https://indianexpress.com/article/education/i-...  education  \n",
       "3  https://indianexpress.com/article/sports/crick...     sports  \n",
       "4  https://indianexpress.com/article/sports/crick...     sports  "
      ]
     },
     "execution_count": 7,
     "metadata": {},
     "output_type": "execute_result"
    }
   ],
   "source": [
    "df.head()"
   ]
  },
  {
   "cell_type": "code",
   "execution_count": 8,
   "id": "00212a6b-3c59-4e57-9a4a-a65dd18d54a7",
   "metadata": {},
   "outputs": [
    {
     "data": {
      "text/plain": [
       "(10000, 6)"
      ]
     },
     "execution_count": 8,
     "metadata": {},
     "output_type": "execute_result"
    }
   ],
   "source": [
    "df.shape"
   ]
  },
  {
   "cell_type": "code",
   "execution_count": 9,
   "id": "39ec486b-7eb3-420a-8df1-c9fe373bb0d8",
   "metadata": {},
   "outputs": [],
   "source": [
    "# removing the useless columns like index and url\n",
    "df.drop(columns=[\"index\",\"url\"],inplace=True)"
   ]
  },
  {
   "cell_type": "code",
   "execution_count": 10,
   "id": "98072414-b2de-41cb-ba9e-251813011f57",
   "metadata": {},
   "outputs": [
    {
     "data": {
      "text/plain": [
       "category\n",
       "sports           2000\n",
       "education        2000\n",
       "entertainment    2000\n",
       "business         2000\n",
       "technology       2000\n",
       "Name: count, dtype: int64"
      ]
     },
     "execution_count": 10,
     "metadata": {},
     "output_type": "execute_result"
    }
   ],
   "source": [
    "df['category'].value_counts()"
   ]
  },
  {
   "cell_type": "code",
   "execution_count": 11,
   "id": "1f908327-44e3-47ed-a8b5-b4a476916506",
   "metadata": {},
   "outputs": [],
   "source": [
    "# mapping\n",
    "def map_category(category):\n",
    "    category_map = {\n",
    "        'sports': 0,\n",
    "        'business': 1,\n",
    "        'entertainment': 2,\n",
    "        'education': 3,\n",
    "        'technology': 4\n",
    "    }\n",
    "    return category_map.get(category, -1)\n",
    "df['Category'] = df['category'].apply(map_category)"
   ]
  },
  {
   "cell_type": "code",
   "execution_count": 12,
   "id": "7bb72dc9-dac2-49e9-97db-63dee5a811f8",
   "metadata": {},
   "outputs": [],
   "source": [
    "df.drop(columns=['category'],inplace=True)"
   ]
  },
  {
   "cell_type": "code",
   "execution_count": 13,
   "id": "e7656be1-813b-4b4b-b6a7-1896617b05ba",
   "metadata": {},
   "outputs": [
    {
     "data": {
      "text/html": [
       "<div>\n",
       "<style scoped>\n",
       "    .dataframe tbody tr th:only-of-type {\n",
       "        vertical-align: middle;\n",
       "    }\n",
       "\n",
       "    .dataframe tbody tr th {\n",
       "        vertical-align: top;\n",
       "    }\n",
       "\n",
       "    .dataframe thead th {\n",
       "        text-align: right;\n",
       "    }\n",
       "</style>\n",
       "<table border=\"1\" class=\"dataframe\">\n",
       "  <thead>\n",
       "    <tr style=\"text-align: right;\">\n",
       "      <th></th>\n",
       "      <th>headlines</th>\n",
       "      <th>description</th>\n",
       "      <th>content</th>\n",
       "      <th>Category</th>\n",
       "    </tr>\n",
       "  </thead>\n",
       "  <tbody>\n",
       "    <tr>\n",
       "      <th>0</th>\n",
       "      <td>I’ve found happiness in even being able to bru...</td>\n",
       "      <td>He talked about how after the life threatening...</td>\n",
       "      <td>India player Rishabh Pant who is recovering fr...</td>\n",
       "      <td>0</td>\n",
       "    </tr>\n",
       "    <tr>\n",
       "      <th>1</th>\n",
       "      <td>HBSE 2024 Exams: Practical exams for Class 10t...</td>\n",
       "      <td>HBSE 2024 Exams: The BSEH Class 10 and Class 1...</td>\n",
       "      <td>The Haryana School Education Board (BSEH) will...</td>\n",
       "      <td>3</td>\n",
       "    </tr>\n",
       "    <tr>\n",
       "      <th>2</th>\n",
       "      <td>‘I want him to crack JEE but don’t want to los...</td>\n",
       "      <td>Packed schedule, cut-throat competition, const...</td>\n",
       "      <td>From mothers on sabbatical to grandparents and...</td>\n",
       "      <td>3</td>\n",
       "    </tr>\n",
       "    <tr>\n",
       "      <th>3</th>\n",
       "      <td>‘As rare as it gets’: Five wickets fall in las...</td>\n",
       "      <td>Tasmania won the summit clash by one run under...</td>\n",
       "      <td>Five wickets fell in a final over for the ages...</td>\n",
       "      <td>0</td>\n",
       "    </tr>\n",
       "    <tr>\n",
       "      <th>4</th>\n",
       "      <td>‘Just because MS Dhoni came and won a World Cu...</td>\n",
       "      <td>Speaking on his YouTube channel, Ashwin also u...</td>\n",
       "      <td>India all-rounder Ravichandran Ashwin has shar...</td>\n",
       "      <td>0</td>\n",
       "    </tr>\n",
       "  </tbody>\n",
       "</table>\n",
       "</div>"
      ],
      "text/plain": [
       "                                           headlines  \\\n",
       "0  I’ve found happiness in even being able to bru...   \n",
       "1  HBSE 2024 Exams: Practical exams for Class 10t...   \n",
       "2  ‘I want him to crack JEE but don’t want to los...   \n",
       "3  ‘As rare as it gets’: Five wickets fall in las...   \n",
       "4  ‘Just because MS Dhoni came and won a World Cu...   \n",
       "\n",
       "                                         description  \\\n",
       "0  He talked about how after the life threatening...   \n",
       "1  HBSE 2024 Exams: The BSEH Class 10 and Class 1...   \n",
       "2  Packed schedule, cut-throat competition, const...   \n",
       "3  Tasmania won the summit clash by one run under...   \n",
       "4  Speaking on his YouTube channel, Ashwin also u...   \n",
       "\n",
       "                                             content  Category  \n",
       "0  India player Rishabh Pant who is recovering fr...         0  \n",
       "1  The Haryana School Education Board (BSEH) will...         3  \n",
       "2  From mothers on sabbatical to grandparents and...         3  \n",
       "3  Five wickets fell in a final over for the ages...         0  \n",
       "4  India all-rounder Ravichandran Ashwin has shar...         0  "
      ]
     },
     "execution_count": 13,
     "metadata": {},
     "output_type": "execute_result"
    }
   ],
   "source": [
    "df.head()"
   ]
  },
  {
   "cell_type": "code",
   "execution_count": 14,
   "id": "67751bdf-1a99-4330-a93e-378d1b3a8b20",
   "metadata": {},
   "outputs": [],
   "source": [
    "# joining the columns to create one and then i will drop the columns\n",
    "df['Content'] = df['headlines'] + ' ' + df['description'] + ' ' + df['content']\n",
    "\n",
    "df.drop(['headlines', 'description', 'content'], axis=1, inplace=True)"
   ]
  },
  {
   "cell_type": "code",
   "execution_count": 15,
   "id": "ccddbffe-9643-4096-8163-ccdc7b354e1b",
   "metadata": {},
   "outputs": [
    {
     "data": {
      "text/html": [
       "<div>\n",
       "<style scoped>\n",
       "    .dataframe tbody tr th:only-of-type {\n",
       "        vertical-align: middle;\n",
       "    }\n",
       "\n",
       "    .dataframe tbody tr th {\n",
       "        vertical-align: top;\n",
       "    }\n",
       "\n",
       "    .dataframe thead th {\n",
       "        text-align: right;\n",
       "    }\n",
       "</style>\n",
       "<table border=\"1\" class=\"dataframe\">\n",
       "  <thead>\n",
       "    <tr style=\"text-align: right;\">\n",
       "      <th></th>\n",
       "      <th>Category</th>\n",
       "      <th>Content</th>\n",
       "    </tr>\n",
       "  </thead>\n",
       "  <tbody>\n",
       "    <tr>\n",
       "      <th>0</th>\n",
       "      <td>0</td>\n",
       "      <td>I’ve found happiness in even being able to bru...</td>\n",
       "    </tr>\n",
       "    <tr>\n",
       "      <th>1</th>\n",
       "      <td>3</td>\n",
       "      <td>HBSE 2024 Exams: Practical exams for Class 10t...</td>\n",
       "    </tr>\n",
       "    <tr>\n",
       "      <th>2</th>\n",
       "      <td>3</td>\n",
       "      <td>‘I want him to crack JEE but don’t want to los...</td>\n",
       "    </tr>\n",
       "    <tr>\n",
       "      <th>3</th>\n",
       "      <td>0</td>\n",
       "      <td>‘As rare as it gets’: Five wickets fall in las...</td>\n",
       "    </tr>\n",
       "    <tr>\n",
       "      <th>4</th>\n",
       "      <td>0</td>\n",
       "      <td>‘Just because MS Dhoni came and won a World Cu...</td>\n",
       "    </tr>\n",
       "  </tbody>\n",
       "</table>\n",
       "</div>"
      ],
      "text/plain": [
       "   Category                                            Content\n",
       "0         0  I’ve found happiness in even being able to bru...\n",
       "1         3  HBSE 2024 Exams: Practical exams for Class 10t...\n",
       "2         3  ‘I want him to crack JEE but don’t want to los...\n",
       "3         0  ‘As rare as it gets’: Five wickets fall in las...\n",
       "4         0  ‘Just because MS Dhoni came and won a World Cu..."
      ]
     },
     "execution_count": 15,
     "metadata": {},
     "output_type": "execute_result"
    }
   ],
   "source": [
    "df.head()"
   ]
  },
  {
   "cell_type": "code",
   "execution_count": 16,
   "id": "84d19cba-da3b-4e8d-857f-8e99362acf6e",
   "metadata": {},
   "outputs": [
    {
     "name": "stdout",
     "output_type": "stream",
     "text": [
      "2646524\n"
     ]
    }
   ],
   "source": [
    "total_word_count = 0\n",
    "for content in df['Content']:\n",
    "    total_word_count += sum(1 for _ in content.split())\n",
    "print(total_word_count)"
   ]
  },
  {
   "cell_type": "code",
   "execution_count": 17,
   "id": "c309f04d-cac5-41c0-beea-96801062e42f",
   "metadata": {},
   "outputs": [],
   "source": [
    "ps = PorterStemmer()"
   ]
  },
  {
   "cell_type": "code",
   "execution_count": 18,
   "id": "33bd9b76-181f-4d91-b50c-43758b6523d0",
   "metadata": {},
   "outputs": [],
   "source": [
    "def stemming(content):\n",
    "    stemmed_content = re.sub('[^a-zA-Z]',' ',content)\n",
    "    stemmed_content = stemmed_content.lower()\n",
    "    stemmed_content = stemmed_content.split()\n",
    "    stemmed_content = [ps.stem(word) for word in stemmed_content if not word in stopwords.words('english')]\n",
    "    stemmed_content = \" \".join(stemmed_content)\n",
    "    return stemmed_content"
   ]
  },
  {
   "cell_type": "code",
   "execution_count": 19,
   "id": "64329e20-c663-40aa-adc8-86ce8fd8b1b1",
   "metadata": {},
   "outputs": [],
   "source": [
    "df['Content'] = df['Content'].apply(stemming)"
   ]
  },
  {
   "cell_type": "code",
   "execution_count": 20,
   "id": "3f609cf1-da26-43fd-a32a-dd6f7feb8a27",
   "metadata": {},
   "outputs": [
    {
     "data": {
      "text/html": [
       "<div>\n",
       "<style scoped>\n",
       "    .dataframe tbody tr th:only-of-type {\n",
       "        vertical-align: middle;\n",
       "    }\n",
       "\n",
       "    .dataframe tbody tr th {\n",
       "        vertical-align: top;\n",
       "    }\n",
       "\n",
       "    .dataframe thead th {\n",
       "        text-align: right;\n",
       "    }\n",
       "</style>\n",
       "<table border=\"1\" class=\"dataframe\">\n",
       "  <thead>\n",
       "    <tr style=\"text-align: right;\">\n",
       "      <th></th>\n",
       "      <th>Category</th>\n",
       "      <th>Content</th>\n",
       "    </tr>\n",
       "  </thead>\n",
       "  <tbody>\n",
       "    <tr>\n",
       "      <th>0</th>\n",
       "      <td>0</td>\n",
       "      <td>found happi even abl brush teeth everi day ris...</td>\n",
       "    </tr>\n",
       "    <tr>\n",
       "      <th>1</th>\n",
       "      <td>3</td>\n",
       "      <td>hbse exam practic exam class th th start feb h...</td>\n",
       "    </tr>\n",
       "    <tr>\n",
       "      <th>2</th>\n",
       "      <td>3</td>\n",
       "      <td>want crack jee want lose process worri parent ...</td>\n",
       "    </tr>\n",
       "    <tr>\n",
       "      <th>3</th>\n",
       "      <td>0</td>\n",
       "      <td>rare get five wicket fall last australian wome...</td>\n",
       "    </tr>\n",
       "    <tr>\n",
       "      <th>4</th>\n",
       "      <td>0</td>\n",
       "      <td>ms dhoni came world cup soon took charg mean h...</td>\n",
       "    </tr>\n",
       "  </tbody>\n",
       "</table>\n",
       "</div>"
      ],
      "text/plain": [
       "   Category                                            Content\n",
       "0         0  found happi even abl brush teeth everi day ris...\n",
       "1         3  hbse exam practic exam class th th start feb h...\n",
       "2         3  want crack jee want lose process worri parent ...\n",
       "3         0  rare get five wicket fall last australian wome...\n",
       "4         0  ms dhoni came world cup soon took charg mean h..."
      ]
     },
     "execution_count": 20,
     "metadata": {},
     "output_type": "execute_result"
    }
   ],
   "source": [
    "df.head()\n"
   ]
  },
  {
   "cell_type": "code",
   "execution_count": 21,
   "id": "51f46ee2-284f-457d-888b-24344c9a63e2",
   "metadata": {},
   "outputs": [
    {
     "name": "stdout",
     "output_type": "stream",
     "text": [
      "1580692\n"
     ]
    }
   ],
   "source": [
    "# so after pre-proccessing around 1M words that are stop words , numbers etc were removed \n",
    "total_word_count = 0\n",
    "for content in df['Content']:\n",
    "    total_word_count += sum(1 for _ in content.split())\n",
    "print(total_word_count)"
   ]
  },
  {
   "cell_type": "code",
   "execution_count": 22,
   "id": "5d587ab2-0ddd-4fa6-924f-036728754cbb",
   "metadata": {},
   "outputs": [],
   "source": [
    "X = df['Content']\n",
    "Y = df['Category']"
   ]
  },
  {
   "cell_type": "code",
   "execution_count": 23,
   "id": "46dbc985-10c9-478f-adb2-f235c6914432",
   "metadata": {},
   "outputs": [],
   "source": [
    "from sklearn.model_selection import train_test_split"
   ]
  },
  {
   "cell_type": "code",
   "execution_count": 24,
   "id": "f5ebf3a3-3d4f-4d43-bd21-7b22ce993ee7",
   "metadata": {},
   "outputs": [],
   "source": [
    "X_train , X_test , Y_train , Y_test  = train_test_split(X, Y, test_size = 0.2 , stratify = Y , random_state = 42)"
   ]
  },
  {
   "cell_type": "code",
   "execution_count": 25,
   "id": "885ddf70-11d6-477b-ab6f-639763d78633",
   "metadata": {},
   "outputs": [],
   "source": [
    "# Vectorization \n",
    "vc = TfidfVectorizer()\n",
    "X_train = vc.fit_transform(X_train)\n",
    "X_test = vc.transform(X_test)"
   ]
  },
  {
   "cell_type": "code",
   "execution_count": 26,
   "id": "2ee9b7b1-8276-4a21-99dd-8faade6f0957",
   "metadata": {},
   "outputs": [],
   "source": [
    "from sklearn.metrics import accuracy_score, classification_report, f1_score\n",
    "from sklearn.svm import SVC"
   ]
  },
  {
   "cell_type": "code",
   "execution_count": 27,
   "id": "16132410-afe4-475a-8182-a7a36e64a537",
   "metadata": {},
   "outputs": [
    {
     "name": "stdout",
     "output_type": "stream",
     "text": [
      "[LibSVM]Model: SVM\n",
      "Accuracy: 0.9845\n",
      "F1-Score: 0.9846\n",
      "Classification Report:\n",
      "              precision    recall  f1-score   support\n",
      "\n",
      "           0       0.99      0.99      0.99       400\n",
      "           1       0.99      0.97      0.98       400\n",
      "           2       1.00      1.00      1.00       400\n",
      "           3       1.00      0.98      0.99       400\n",
      "           4       0.95      0.98      0.97       400\n",
      "\n",
      "    accuracy                           0.98      2000\n",
      "   macro avg       0.98      0.98      0.98      2000\n",
      "weighted avg       0.98      0.98      0.98      2000\n",
      "\n",
      "==================================================\n"
     ]
    }
   ],
   "source": [
    "model = SVC(verbose = 2)\n",
    "model.fit(X_train, Y_train)\n",
    "\n",
    "# Make predictions\n",
    "Y_pred_cls = model.predict(X_test)\n",
    "\n",
    "accuracy_cls = accuracy_score(Y_test, Y_pred_cls)\n",
    "\n",
    "f1_cls = f1_score(Y_test, Y_pred_cls, average='weighted')\n",
    "\n",
    "report_cls = classification_report(Y_test, Y_pred_cls)\n",
    "    \n",
    "# Print the results for classification\n",
    "print(f\"Model: SVM\")\n",
    "print(f\"Accuracy: {accuracy_cls:.4f}\")\n",
    "print(f\"F1-Score: {f1_cls:.4f}\")\n",
    "print(f\"Classification Report:\\n{report_cls}\")\n",
    "print(\"=\"*50)"
   ]
  },
  {
   "cell_type": "code",
   "execution_count": 28,
   "id": "0b3119f7-40eb-4092-ba30-eda4f73e262c",
   "metadata": {},
   "outputs": [],
   "source": [
    "def val_to_category(val):\n",
    "    category_map = {\n",
    "        0:'sports',\n",
    "        1:'business',\n",
    "        2:'entertainment',\n",
    "        3:'education',\n",
    "        4:'technology'\n",
    "     }\n",
    "    return category_map.get(val,-1)\n",
    "    "
   ]
  },
  {
   "cell_type": "code",
   "execution_count": 29,
   "id": "2889dcfe-abf6-4cb1-a9ee-00d288c581f0",
   "metadata": {},
   "outputs": [],
   "source": [
    "def make_predictions(headlines,\tdescription, content):\n",
    "    text = headlines + \" \"+description +\" \"+ content\n",
    "    text = stemming(text)\n",
    "    text = vc.transform([text])\n",
    "    val = model.predict(text)\n",
    "    val = val_to_category(int(val[0]))\n",
    "    print(\"News category is : \",val)"
   ]
  },
  {
   "cell_type": "code",
   "execution_count": 30,
   "id": "e68f4c3d-e6c5-407e-b715-dfc66b923a28",
   "metadata": {},
   "outputs": [
    {
     "name": "stdout",
     "output_type": "stream",
     "text": [
      "News category is :  sports\n"
     ]
    }
   ],
   "source": [
    "make_predictions(\"kohli got his 50th century\",\"kholi has scored his 50th century today at stadium\",\"the run machine kholi hit another milestone my scoring his 50th odi centry toda at stadium\")\n"
   ]
  },
  {
   "cell_type": "code",
   "execution_count": 31,
   "id": "e66f526b-19e0-4a4f-8fed-29d3a1b4df7e",
   "metadata": {},
   "outputs": [
    {
     "name": "stdout",
     "output_type": "stream",
     "text": [
      "News category is :  business\n"
     ]
    }
   ],
   "source": [
    "make_predictions(\"ambani earns 10M in a hour\" ,\" Mukesh Ambani earnd 10M ruppes in a single hour\",\"Mukesh Ambani the chairman of Reliance Industries Limited has earns around 10M ruppes every single hour this shows the that how much potential in there in indian market\")"
   ]
  },
  {
   "cell_type": "code",
   "execution_count": 32,
   "id": "b8b5b9bf-040f-4549-8273-c7a43bc4306e",
   "metadata": {},
   "outputs": [
    {
     "name": "stdout",
     "output_type": "stream",
     "text": [
      "News category is :  education\n"
     ]
    }
   ],
   "source": [
    "make_predictions(\"Change is NCERT syllabus\",\"\",\"\") # as you can see model can even predict with title only"
   ]
  },
  {
   "cell_type": "code",
   "execution_count": 33,
   "id": "353192ac-27b7-4985-b5bc-c01094109927",
   "metadata": {},
   "outputs": [
    {
     "name": "stdout",
     "output_type": "stream",
     "text": [
      "News category is :  sports\n"
     ]
    }
   ],
   "source": [
    "make_predictions(\"tennis is a dish\",\"\",\"\")"
   ]
  },
  {
   "cell_type": "code",
   "execution_count": 68,
   "id": "01dba77a-3bd0-43bf-8117-4869e6a1ac15",
   "metadata": {},
   "outputs": [
    {
     "name": "stdout",
     "output_type": "stream",
     "text": [
      "News category is :  technology\n"
     ]
    }
   ],
   "source": [
    "make_predictions(\"marvel is a dish\",\"\",\"\")"
   ]
  },
  {
   "cell_type": "code",
   "execution_count": 87,
   "id": "119a033b-d70c-4e88-b8a5-5e2ce832bc8f",
   "metadata": {},
   "outputs": [
    {
     "name": "stdout",
     "output_type": "stream",
     "text": [
      "News category is :  technology\n"
     ]
    }
   ],
   "source": [
    "make_predictions(\"man explode\",\"many die\",\"\")"
   ]
  },
  {
   "cell_type": "code",
   "execution_count": 97,
   "id": "02ffc371-16f9-4d25-9503-2cad3c0843dc",
   "metadata": {},
   "outputs": [
    {
     "name": "stdout",
     "output_type": "stream",
     "text": [
      "News category is :  education\n"
     ]
    }
   ],
   "source": [
    "make_predictions(\"book to read\",\"\",\"\")"
   ]
  },
  {
   "cell_type": "code",
   "execution_count": 119,
   "id": "75bc6cc0-e867-4b31-825e-1cc655f1b251",
   "metadata": {},
   "outputs": [
    {
     "name": "stdout",
     "output_type": "stream",
     "text": [
      "News category is :  entertainment\n"
     ]
    }
   ],
   "source": [
    "make_predictions(\"share went up\",\"\",\"\")"
   ]
  },
  {
   "cell_type": "code",
   "execution_count": null,
   "id": "8f08da3e-19e8-4a2a-a320-785174acfe4c",
   "metadata": {},
   "outputs": [],
   "source": []
  }
 ],
 "metadata": {
  "kernelspec": {
   "display_name": "Python 3 (ipykernel)",
   "language": "python",
   "name": "python3"
  },
  "language_info": {
   "codemirror_mode": {
    "name": "ipython",
    "version": 3
   },
   "file_extension": ".py",
   "mimetype": "text/x-python",
   "name": "python",
   "nbconvert_exporter": "python",
   "pygments_lexer": "ipython3",
   "version": "3.12.4"
  }
 },
 "nbformat": 4,
 "nbformat_minor": 5
}
